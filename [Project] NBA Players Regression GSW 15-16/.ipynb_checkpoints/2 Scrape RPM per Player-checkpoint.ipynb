{
 "cells": [
  {
   "cell_type": "markdown",
   "metadata": {},
   "source": [
    "# Run this code to get the dataset needed with the positions and the names."
   ]
  },
  {
   "cell_type": "markdown",
   "metadata": {},
   "source": [
    "### Functions"
   ]
  },
  {
   "cell_type": "code",
   "execution_count": 1,
   "metadata": {},
   "outputs": [],
   "source": [
    "from bs4 import BeautifulSoup\n",
    "import requests\n",
    "from HTMLParser import HTMLParser\n",
    "from datetime import datetime\n",
    "import hashlib\n",
    "import requests\n",
    "import re\n",
    "\n",
    "import numpy as np\n",
    "import pandas as pd\n",
    "\n",
    "class MLStripper(HTMLParser):\n",
    "    def __init__(self):\n",
    "        self.reset()\n",
    "        self.strict = False\n",
    "        self.convert_charrefs= True\n",
    "        self.fed = []\n",
    "    def handle_data(self, d):\n",
    "        self.fed.append(d)\n",
    "    def get_data(self):\n",
    "        return ''.join(self.fed)\n",
    "\n",
    "def strip_tags(html):\n",
    "    s = MLStripper()\n",
    "    s.feed(html)\n",
    "    return s.get_data()\n",
    "\n",
    "\n",
    "# In[58]:\n",
    "from selenium import webdriver\n",
    "import urllib2\n",
    "import MySQLdb"
   ]
  },
  {
   "cell_type": "markdown",
   "metadata": {},
   "source": [
    "# MAIN"
   ]
  },
  {
   "cell_type": "markdown",
   "metadata": {},
   "source": [
    "\n",
    "### Read the NBA File you generated from the Appendix code below."
   ]
  },
  {
   "cell_type": "code",
   "execution_count": 2,
   "metadata": {},
   "outputs": [
    {
     "data": {
      "text/html": [
       "<div>\n",
       "<style scoped>\n",
       "    .dataframe tbody tr th:only-of-type {\n",
       "        vertical-align: middle;\n",
       "    }\n",
       "\n",
       "    .dataframe tbody tr th {\n",
       "        vertical-align: top;\n",
       "    }\n",
       "\n",
       "    .dataframe thead th {\n",
       "        text-align: right;\n",
       "    }\n",
       "</style>\n",
       "<table border=\"1\" class=\"dataframe\">\n",
       "  <thead>\n",
       "    <tr style=\"text-align: right;\">\n",
       "      <th></th>\n",
       "      <th>first_name</th>\n",
       "      <th>last_name</th>\n",
       "      <th>names</th>\n",
       "      <th>pos</th>\n",
       "      <th>team</th>\n",
       "    </tr>\n",
       "  </thead>\n",
       "  <tbody>\n",
       "    <tr>\n",
       "      <th>0</th>\n",
       "      <td>Giannis</td>\n",
       "      <td>Antetokounmpo</td>\n",
       "      <td>Giannis Antetokounmpo</td>\n",
       "      <td>PG</td>\n",
       "      <td>MIL</td>\n",
       "    </tr>\n",
       "    <tr>\n",
       "      <th>1</th>\n",
       "      <td>Jerryd</td>\n",
       "      <td>Bayless</td>\n",
       "      <td>Jerryd Bayless</td>\n",
       "      <td>SG</td>\n",
       "      <td>MIL</td>\n",
       "    </tr>\n",
       "    <tr>\n",
       "      <th>2</th>\n",
       "      <td>Michael</td>\n",
       "      <td>Carter-Williams</td>\n",
       "      <td>Michael Carter-Williams</td>\n",
       "      <td>PG</td>\n",
       "      <td>MIL</td>\n",
       "    </tr>\n",
       "    <tr>\n",
       "      <th>3</th>\n",
       "      <td>Chris</td>\n",
       "      <td>Copeland</td>\n",
       "      <td>Chris Copeland</td>\n",
       "      <td>PF</td>\n",
       "      <td>MIL</td>\n",
       "    </tr>\n",
       "    <tr>\n",
       "      <th>4</th>\n",
       "      <td>Jared</td>\n",
       "      <td>Cunningham</td>\n",
       "      <td>Jared Cunningham</td>\n",
       "      <td>SG</td>\n",
       "      <td>MIL</td>\n",
       "    </tr>\n",
       "  </tbody>\n",
       "</table>\n",
       "</div>"
      ],
      "text/plain": [
       "  first_name        last_name                    names pos team\n",
       "0    Giannis    Antetokounmpo    Giannis Antetokounmpo  PG  MIL\n",
       "1     Jerryd          Bayless           Jerryd Bayless  SG  MIL\n",
       "2    Michael  Carter-Williams  Michael Carter-Williams  PG  MIL\n",
       "3      Chris         Copeland           Chris Copeland  PF  MIL\n",
       "4      Jared       Cunningham         Jared Cunningham  SG  MIL"
      ]
     },
     "execution_count": 2,
     "metadata": {},
     "output_type": "execute_result"
    }
   ],
   "source": [
    "NBA_dataset = pd.read_csv(\"NBA_teamnamepos_data.csv\", sep=\",\")\n",
    "NBA_dataset.head()"
   ]
  },
  {
   "cell_type": "markdown",
   "metadata": {},
   "source": [
    "## Go to the ESPN site and get the data you want, which is the RPM info. "
   ]
  },
  {
   "cell_type": "code",
   "execution_count": null,
   "metadata": {},
   "outputs": [
    {
     "name": "stdout",
     "output_type": "stream",
     "text": [
      "2018-03-08 14:30:05.518000\n",
      "http://www.espn.com/nba/statistics/rpm/_/year/2016/page/0/sort/RPM\n",
      "40\n",
      "http://www.espn.com/nba/statistics/rpm/_/year/2016/page/1/sort/RPM\n",
      "80\n",
      "http://www.espn.com/nba/statistics/rpm/_/year/2016/page/2/sort/RPM\n",
      "120\n",
      "http://www.espn.com/nba/statistics/rpm/_/year/2016/page/3/sort/RPM\n",
      "160\n",
      "http://www.espn.com/nba/statistics/rpm/_/year/2016/page/4/sort/RPM\n",
      "200\n",
      "http://www.espn.com/nba/statistics/rpm/_/year/2016/page/5/sort/RPM\n",
      "240\n",
      "http://www.espn.com/nba/statistics/rpm/_/year/2016/page/6/sort/RPM\n"
     ]
    }
   ],
   "source": [
    "#initialize data frame\n",
    "RPM_data = pd.DataFrame(columns=('names', 'GP','MPG', 'ORPM', 'DRPM', 'RPM', 'WINS'))\n",
    "\n",
    "print str(datetime.now())\n",
    "for j in range(0, 12):\n",
    "    \n",
    "    url = \"http://www.espn.com/nba/statistics/rpm/_/year/2016/page/\" + str(j) + \"/sort/RPM\"\n",
    "\n",
    "    print url\n",
    "    \n",
    "    r1 = urllib2.urlopen(url)\n",
    "    soup = BeautifulSoup(r1, 'html.parser')\n",
    "\n",
    "\n",
    "    #get the even columns\n",
    "    evens = soup.findAll('tr', {'class':'evenrow'})\n",
    "\n",
    "    for i in range(0, len(evens)):\n",
    "        name = evens[i].a.text\n",
    "        name\n",
    "\n",
    "        team = evens[i].find(\"td\").find_next_sibling(\"td\").find_next_sibling(\"td\")\n",
    "        team.text\n",
    "\n",
    "        games_played = team.find_next_sibling(\"td\")\n",
    "        games_played.text\n",
    "\n",
    "        mins_per_game = games_played.find_next_sibling(\"td\")\n",
    "        mins_per_game.text\n",
    "\n",
    "        ORPM = mins_per_game.find_next_sibling(\"td\")\n",
    "        ORPM.text\n",
    "\n",
    "        DRPM = ORPM.find_next_sibling(\"td\")\n",
    "        DRPM.text\n",
    "\n",
    "        RPM = DRPM.find_next_sibling(\"td\")\n",
    "        RPM.text\n",
    "\n",
    "        wins = RPM.find_next_sibling(\"td\")\n",
    "        wins.text\n",
    "\n",
    "        record = [name, games_played.text, mins_per_game.text, ORPM.text, DRPM.text, RPM.text, wins.text]\n",
    "\n",
    "        temp_df = pd.DataFrame([record],columns=('names', 'GP','MPG', 'ORPM', 'DRPM', 'RPM', 'WINS'))\n",
    "        frames = [RPM_data, temp_df]\n",
    "        RPM_data = pd.concat(frames, ignore_index = True)\n",
    "\n",
    "\n",
    "    #get the odd columns\n",
    "    odds = soup.findAll('tr', {'class':'oddrow'})\n",
    "\n",
    "    for i in range(0, len(odds)):\n",
    "        name = odds[i].a.text\n",
    "        name\n",
    "\n",
    "        team = odds[i].find(\"td\").find_next_sibling(\"td\").find_next_sibling(\"td\")\n",
    "        team.text\n",
    "\n",
    "        games_played = team.find_next_sibling(\"td\")\n",
    "        games_played.text\n",
    "\n",
    "        mins_per_game = games_played.find_next_sibling(\"td\")\n",
    "        mins_per_game.text\n",
    "\n",
    "        ORPM = mins_per_game.find_next_sibling(\"td\")\n",
    "        ORPM.text\n",
    "\n",
    "        DRPM = ORPM.find_next_sibling(\"td\")\n",
    "        DRPM.text\n",
    "\n",
    "        RPM = DRPM.find_next_sibling(\"td\")\n",
    "        RPM.text\n",
    "\n",
    "        wins = RPM.find_next_sibling(\"td\")\n",
    "        wins.text\n",
    "\n",
    "        record = [name, games_played.text, mins_per_game.text, ORPM.text, DRPM.text, RPM.text, wins.text]\n",
    "\n",
    "        temp_df = pd.DataFrame([record],columns=('names', 'GP','MPG', 'ORPM', 'DRPM', 'RPM', 'WINS'))\n",
    "        frames = [RPM_data, temp_df]\n",
    "        RPM_data = pd.concat(frames, ignore_index = True)\n",
    "\n",
    "        #concatenate the odds and evens\n",
    "    print len(RPM_data)\n",
    "print str(datetime.now())"
   ]
  },
  {
   "cell_type": "code",
   "execution_count": 145,
   "metadata": {},
   "outputs": [
    {
     "name": "stdout",
     "output_type": "stream",
     "text": [
      "463\n",
      "423\n"
     ]
    }
   ],
   "source": [
    "print len(RPM_data)\n",
    "RPM_dataset = RPM_data.drop_duplicates(keep='first')\n",
    "print len(RPM_dataset)"
   ]
  },
  {
   "cell_type": "code",
   "execution_count": 146,
   "metadata": {},
   "outputs": [
    {
     "name": "stdout",
     "output_type": "stream",
     "text": [
      "528\n"
     ]
    }
   ],
   "source": [
    "print len(NBA_dataset)"
   ]
  },
  {
   "cell_type": "code",
   "execution_count": 178,
   "metadata": {},
   "outputs": [
    {
     "data": {
      "text/plain": [
       "528"
      ]
     },
     "execution_count": 178,
     "metadata": {},
     "output_type": "execute_result"
    }
   ],
   "source": [
    "merged_data = pd.merge(NBA_dataset, RPM_dataset, how = 'left', on='names')\n",
    "len(merged_data)"
   ]
  },
  {
   "cell_type": "code",
   "execution_count": 159,
   "metadata": {},
   "outputs": [],
   "source": [
    "# save to a csv file \n",
    "merged_data.to_csv(\"NBA Dataset with RPM.csv\", sep=',')"
   ]
  },
  {
   "cell_type": "code",
   "execution_count": 182,
   "metadata": {},
   "outputs": [
    {
     "data": {
      "text/html": [
       "<div>\n",
       "<style scoped>\n",
       "    .dataframe tbody tr th:only-of-type {\n",
       "        vertical-align: middle;\n",
       "    }\n",
       "\n",
       "    .dataframe tbody tr th {\n",
       "        vertical-align: top;\n",
       "    }\n",
       "\n",
       "    .dataframe thead th {\n",
       "        text-align: right;\n",
       "    }\n",
       "</style>\n",
       "<table border=\"1\" class=\"dataframe\">\n",
       "  <thead>\n",
       "    <tr style=\"text-align: right;\">\n",
       "      <th></th>\n",
       "      <th>Unnamed: 0</th>\n",
       "      <th>first_name</th>\n",
       "      <th>last_name</th>\n",
       "      <th>names</th>\n",
       "      <th>pos</th>\n",
       "      <th>team</th>\n",
       "      <th>tm</th>\n",
       "      <th>GP</th>\n",
       "      <th>MPG</th>\n",
       "      <th>ORPM</th>\n",
       "      <th>DRPM</th>\n",
       "      <th>RPM</th>\n",
       "      <th>WINS</th>\n",
       "    </tr>\n",
       "  </thead>\n",
       "  <tbody>\n",
       "    <tr>\n",
       "      <th>0</th>\n",
       "      <td>0</td>\n",
       "      <td>Giannis</td>\n",
       "      <td>Antetokounmpo</td>\n",
       "      <td>Giannis Antetokounmpo</td>\n",
       "      <td>PG</td>\n",
       "      <td>MIL</td>\n",
       "      <td>MIL</td>\n",
       "      <td>80</td>\n",
       "      <td>35.3</td>\n",
       "      <td>0.84</td>\n",
       "      <td>0.27</td>\n",
       "      <td>1.11</td>\n",
       "      <td>7.46</td>\n",
       "    </tr>\n",
       "    <tr>\n",
       "      <th>1</th>\n",
       "      <td>1</td>\n",
       "      <td>Jerryd</td>\n",
       "      <td>Bayless</td>\n",
       "      <td>Jerryd Bayless</td>\n",
       "      <td>SG</td>\n",
       "      <td>MIL</td>\n",
       "      <td>MIL</td>\n",
       "      <td>52</td>\n",
       "      <td>28.9</td>\n",
       "      <td>0.21</td>\n",
       "      <td>-2.34</td>\n",
       "      <td>-2.13</td>\n",
       "      <td>0.92</td>\n",
       "    </tr>\n",
       "    <tr>\n",
       "      <th>2</th>\n",
       "      <td>2</td>\n",
       "      <td>Michael</td>\n",
       "      <td>Carter-Williams</td>\n",
       "      <td>Michael Carter-Williams</td>\n",
       "      <td>PG</td>\n",
       "      <td>MIL</td>\n",
       "      <td>MIL</td>\n",
       "      <td>54</td>\n",
       "      <td>30.5</td>\n",
       "      <td>-1.73</td>\n",
       "      <td>0.37</td>\n",
       "      <td>-1.36</td>\n",
       "      <td>1.82</td>\n",
       "    </tr>\n",
       "    <tr>\n",
       "      <th>3</th>\n",
       "      <td>3</td>\n",
       "      <td>Chris</td>\n",
       "      <td>Copeland</td>\n",
       "      <td>Chris Copeland</td>\n",
       "      <td>PF</td>\n",
       "      <td>MIL</td>\n",
       "      <td>NaN</td>\n",
       "      <td>NaN</td>\n",
       "      <td>NaN</td>\n",
       "      <td>NaN</td>\n",
       "      <td>NaN</td>\n",
       "      <td>NaN</td>\n",
       "      <td>NaN</td>\n",
       "    </tr>\n",
       "    <tr>\n",
       "      <th>4</th>\n",
       "      <td>4</td>\n",
       "      <td>Jared</td>\n",
       "      <td>Cunningham</td>\n",
       "      <td>Jared Cunningham</td>\n",
       "      <td>SG</td>\n",
       "      <td>MIL</td>\n",
       "      <td>NaN</td>\n",
       "      <td>NaN</td>\n",
       "      <td>NaN</td>\n",
       "      <td>NaN</td>\n",
       "      <td>NaN</td>\n",
       "      <td>NaN</td>\n",
       "      <td>NaN</td>\n",
       "    </tr>\n",
       "  </tbody>\n",
       "</table>\n",
       "</div>"
      ],
      "text/plain": [
       "   Unnamed: 0 first_name        last_name                    names pos team  \\\n",
       "0           0    Giannis    Antetokounmpo    Giannis Antetokounmpo  PG  MIL   \n",
       "1           1     Jerryd          Bayless           Jerryd Bayless  SG  MIL   \n",
       "2           2    Michael  Carter-Williams  Michael Carter-Williams  PG  MIL   \n",
       "3           3      Chris         Copeland           Chris Copeland  PF  MIL   \n",
       "4           4      Jared       Cunningham         Jared Cunningham  SG  MIL   \n",
       "\n",
       "    tm   GP   MPG   ORPM   DRPM    RPM  WINS  \n",
       "0  MIL   80  35.3   0.84   0.27   1.11  7.46  \n",
       "1  MIL   52  28.9   0.21  -2.34  -2.13  0.92  \n",
       "2  MIL   54  30.5  -1.73   0.37  -1.36  1.82  \n",
       "3  NaN  NaN   NaN    NaN    NaN    NaN   NaN  \n",
       "4  NaN  NaN   NaN    NaN    NaN    NaN   NaN  "
      ]
     },
     "execution_count": 182,
     "metadata": {},
     "output_type": "execute_result"
    }
   ],
   "source": [
    "merged_data.head()"
   ]
  },
  {
   "cell_type": "code",
   "execution_count": null,
   "metadata": {},
   "outputs": [],
   "source": []
  }
 ],
 "metadata": {
  "kernelspec": {
   "display_name": "Python 2",
   "language": "python",
   "name": "python2"
  },
  "language_info": {
   "codemirror_mode": {
    "name": "ipython",
    "version": 2
   },
   "file_extension": ".py",
   "mimetype": "text/x-python",
   "name": "python",
   "nbconvert_exporter": "python",
   "pygments_lexer": "ipython2",
   "version": "2.7.14"
  }
 },
 "nbformat": 4,
 "nbformat_minor": 2
}
