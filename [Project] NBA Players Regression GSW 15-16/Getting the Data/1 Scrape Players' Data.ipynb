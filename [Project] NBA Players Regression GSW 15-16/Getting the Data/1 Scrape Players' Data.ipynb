{
 "cells": [
  {
   "cell_type": "markdown",
   "metadata": {},
   "source": []
  },
  {
   "cell_type": "markdown",
   "metadata": {},
   "source": [
    "### Functions"
   ]
  },
  {
   "cell_type": "code",
   "execution_count": 13,
   "metadata": {},
   "outputs": [],
   "source": [
    "from bs4 import BeautifulSoup\n",
    "import requests\n",
    "from HTMLParser import HTMLParser\n",
    "from time import sleep\n",
    "import random\n",
    "import csv\n",
    "import hashlib\n",
    "import requests\n",
    "import re\n",
    "from datetime import datetime\n",
    "\n",
    "import numpy as np\n",
    "import pandas as pd\n",
    "\n",
    "# In[50]:\n",
    "\n",
    "class MLStripper(HTMLParser):\n",
    "    def __init__(self):\n",
    "        self.reset()\n",
    "        self.strict = False\n",
    "        self.convert_charrefs= True\n",
    "        self.fed = []\n",
    "    def handle_data(self, d):\n",
    "        self.fed.append(d)\n",
    "    def get_data(self):\n",
    "        return ''.join(self.fed)\n",
    "\n",
    "def strip_tags(html):\n",
    "    s = MLStripper()\n",
    "    s.feed(html)\n",
    "    return s.get_data()\n",
    "\n",
    "\n",
    "# In[58]:\n",
    "from selenium import webdriver\n",
    "import urllib2\n",
    "import MySQLdb"
   ]
  },
  {
   "cell_type": "markdown",
   "metadata": {},
   "source": [
    "## get all the URLs for scraping!\n",
    "## url composition: \"http://www.nba.com/games/\" + date of game from wiki + \"//\" + team A AT team B  + \"//\" + \"/gameinfo.html\"\n"
   ]
  },
  {
   "cell_type": "code",
   "execution_count": 7,
   "metadata": {},
   "outputs": [],
   "source": [
    "#get url \n",
    "wiki_url = \"https://en.wikipedia.org/wiki/2015–16_Golden_State_Warriors_season\"\n",
    "url = wiki_url\n",
    "\n",
    "#use beautiful soup to parse more conveniently\n",
    "r1 = urllib2.urlopen(url)\n",
    "soup = BeautifulSoup(r1, 'html.parser')\n",
    "\n",
    "wiki_table = soup.findAll('table', {'class':'toccolours'})\n",
    "\n",
    "#get the relevant tables; i.e. the regular season sched and playoffs sched. We need these tables to generate the links\n",
    "reg_season_sched = wiki_table[1]\n",
    "playoffs_sched = wiki_table[2]\n",
    "\n"
   ]
  },
  {
   "cell_type": "code",
   "execution_count": 8,
   "metadata": {},
   "outputs": [],
   "source": [
    "#regular season table\n",
    "#get the date and the team acronyms for visiting the NBA play-by-play score\n",
    "games_log = str(reg_season_sched).split('<tr style=\"background')\n",
    "games_log = games_log[1:]\n",
    "\n",
    "dates_teams = []\n",
    "dates_teams_2 = []\n",
    "for i in games_log:\n",
    "    temp = i.split(\"https://watch.nba.com/game/\")\n",
    "    date_player = temp[1].split('\"')\n",
    "    dates_teams.append(date_player[0])\n"
   ]
  },
  {
   "cell_type": "code",
   "execution_count": 9,
   "metadata": {},
   "outputs": [],
   "source": [
    "#playoffs season table\n",
    "\n",
    "#comment this entire cell if you don't want playoff values\n",
    "#get the date and the team acronyms for visiting the NBA play-by-play score\n",
    "games_log = str(playoffs_sched).split('<tr style=\"background')\n",
    "\n",
    "games_log = games_log[1:]\n",
    "\n",
    "for i in games_log:\n",
    "    temp = i.split(\"https://watch.nba.com/game/\")\n",
    "    date_player = temp[1].split('\"')\n",
    "    dates_teams_2.append(date_player[0])\n"
   ]
  },
  {
   "cell_type": "code",
   "execution_count": 10,
   "metadata": {},
   "outputs": [
    {
     "name": "stdout",
     "output_type": "stream",
     "text": [
      "106\n"
     ]
    }
   ],
   "source": [
    "#concatenate links from both regular season and playoffs\n",
    "dates_teams = dates_teams + dates_teams_2\n",
    "print(len(dates_teams))"
   ]
  },
  {
   "cell_type": "markdown",
   "metadata": {},
   "source": [
    "### Code below gets the data of the NBA player, his team and his position. \n",
    "\n",
    "### End output is the NBA_teamnamepos_data.csv file"
   ]
  },
  {
   "cell_type": "code",
   "execution_count": 12,
   "metadata": {},
   "outputs": [
    {
     "name": "stdout",
     "output_type": "stream",
     "text": [
      "['GSW', 'HOU', 'NOP', 'SAC', 'MEM', 'MIN', 'LAC', 'DEN', 'PHX', 'UTA', 'CHA', 'TOR', 'BKN', 'IND', 'BOS', 'MIL', 'DAL', 'LAL', 'POR', 'DET', 'CLE', 'CHI', 'PHI', 'NYK', 'WAS', 'ATL', 'MIA', 'ORL', 'OKC', 'SAS']\n",
      "30\n"
     ]
    }
   ],
   "source": [
    "#get all the teams, put it in teams variable\n",
    "\n",
    "teams = ['GSW']\n",
    "for item in dates_teams:\n",
    "    opp = item.split(\"/\")[1][3:]\n",
    "    \n",
    "    \n",
    "    if opp not in teams:\n",
    "        teams.append(opp)\n",
    "\n",
    "print(teams)\n",
    "print(len(teams))\n"
   ]
  },
  {
   "cell_type": "code",
   "execution_count": 15,
   "metadata": {},
   "outputs": [
    {
     "name": "stdout",
     "output_type": "stream",
     "text": [
      " start date: 2018-03-08 14:13:14.094000\n",
      "GSW\n",
      "HOU\n",
      "NOP\n",
      "SAC\n",
      "MEM\n",
      "MIN\n",
      "LAC\n",
      "Error on  https://www.basketball-reference.com/teams/DEN/2016.html\n",
      "Error on  https://www.basketball-reference.com/teams/PHX/2016.html\n",
      "UTA\n",
      "Error on  https://www.basketball-reference.com/teams/CHA/2016.html\n",
      "TOR\n",
      "Error on  https://www.basketball-reference.com/teams/BKN/2016.html\n",
      "IND\n",
      "BOS\n",
      "MIL\n",
      "DAL\n",
      "LAL\n",
      "POR\n",
      "DET\n",
      "CLE\n",
      "CHI\n",
      "PHI\n",
      "NYK\n",
      "WAS\n",
      "ATL\n",
      "MIA\n",
      "ORL\n",
      "OKC\n",
      "SAS\n",
      "end date: 2018-03-08 14:22:27.575000\n"
     ]
    }
   ],
   "source": [
    "# once you get the teams, visit each team at: https://www.basketball-reference.com/teams/<team>/2016.html\n",
    "# note the [PHO, BRK CHO] is there because the enconding is different in the basketball-reference website\n",
    "nba_dicts = {}\n",
    "print \"start date:\", str(datetime.now())\n",
    "for team in teams:\n",
    "    \n",
    "    try:\n",
    "        # make sure the chromedriver redirected at the proper place\n",
    "        browser = webdriver.Chrome(executable_path=\"C:\\\\Users\\\\jacob\\\\Downloads\\\\[Project] NBA Players Regression GSW 15-16\\\\chromedriver.exe\") #replace with .Firefox(), or with the browser of your choice\n",
    "\n",
    "        url2 = \"https://www.basketball-reference.com/teams/\" + team + \"/2016.html\"\n",
    "\n",
    "        browser.get(url2) #navigate to the page\n",
    "        browser.find_element_by_xpath('//*[@id=\"roster\"]') #returns the inner HTML as a string\n",
    "        roster_text = browser.execute_script(\"return document.body.innerHTML\")\n",
    "        browser.close()\n",
    "\n",
    "        text = roster_text.split(\"<h2>Roster</h2>\")\n",
    "\n",
    "        rlvt_text = text[1].split(\"</tbody>\")\n",
    "        rlvt_text2 = rlvt_text[0].split(\"<tbody>\")[1]\n",
    "        rlvt_text3 = rlvt_text2.split(r'<tr data-row=\"')[1:]\n",
    "\n",
    "        name_list = []\n",
    "        pos_list = []\n",
    "        fn_list = []\n",
    "        ln_list = []\n",
    "\n",
    "\n",
    "        for i in range(0,len(rlvt_text3)):\n",
    "            sample = strip_tags(rlvt_text3[i])\n",
    "            name_pos = re.findall(r'(\\d{1,2})([\\Da-z]+\\s[\\Da-z]+)([A-Z]{0,2})(\\d-\\d+)([A-Z][a-z]+\\s\\d{1,2},\\s\\d{4})', sample)\n",
    "\n",
    "            tempvar = re.split(r'([A-Z]+)', name_pos[0][1])\n",
    "            name = \"\".join(tempvar[:len(tempvar)-2])\n",
    "            pos = tempvar[-2]\n",
    "            \n",
    "            templist = name.strip(\" \").split(\" \")\n",
    "            first_name = templist.pop(0)\n",
    "            last_name = \" \".join(templist)\n",
    "            \n",
    "            #print first_name, last_name\n",
    "\n",
    "            name_list.append(name.strip(\" \"))\n",
    "            pos_list.append(pos.strip(\" \"))\n",
    "            fn_list.append(first_name)\n",
    "            ln_list.append(last_name)\n",
    "\n",
    "\n",
    "            #print name, pos, team\n",
    "            \n",
    "        name_series = pd.Series(name_list)\n",
    "        pos_series = pd.Series(pos_list)\n",
    "        fn_series = pd.Series(fn_list)\n",
    "        ln_series = pd.Series(ln_list)\n",
    "        \n",
    "        team_series = pd.Series([team for asd in range(0, len(name_series))])\n",
    "\n",
    "        sample_dict = {'names': name_series, 'first_name':fn_series, 'last_name': ln_series, 'pos': pos_series, 'team':team_series}\n",
    "\n",
    "        team_dict = pd.DataFrame(sample_dict)\n",
    "\n",
    "        nba_dicts[team] = team_dict\n",
    "        print team \n",
    "    except Exception as e:\n",
    "        print \"Error on \", url2\n",
    "print \"end date:\", str(datetime.now())"
   ]
  },
  {
   "cell_type": "code",
   "execution_count": 16,
   "metadata": {},
   "outputs": [
    {
     "name": "stdout",
     "output_type": "stream",
     "text": [
      "Start date: 2018-03-08 14:23:08.600000\n",
      "DEN\n",
      "PHO\n",
      "BRK\n",
      "CHO\n",
      "end date: 2018-03-08 14:24:22.439000\n"
     ]
    }
   ],
   "source": [
    "#oops, turns out we still need to parse Phoenix, Brooklyn and Charlotte \n",
    "#since in basketball-references.com they are encoded differently\n",
    "print \"Start date:\", str(datetime.now())\n",
    "for team in [\"DEN\",\"PHO\", \"BRK\", \"CHO\"]:\n",
    "    \n",
    "    try:\n",
    "        browser = webdriver.Chrome(executable_path=\"C:\\\\Users\\\\jacob\\\\Downloads\\\\[Project] NBA Players Regression GSW 15-16\\\\chromedriver.exe\") #replace with .Firefox(), or with the browser of your choice\n",
    "\n",
    "        url2 = \"https://www.basketball-reference.com/teams/\" + team + \"/2016.html\"\n",
    "\n",
    "        browser.get(url2) #navigate to the page\n",
    "        browser.find_element_by_xpath('//*[@id=\"roster\"]') #returns the inner HTML as a string\n",
    "        roster_text = browser.execute_script(\"return document.body.innerHTML\")\n",
    "        browser.close()\n",
    "\n",
    "        text = roster_text.split(\"<h2>Roster</h2>\")\n",
    "\n",
    "        rlvt_text = text[1].split(\"</tbody>\")\n",
    "        rlvt_text2 = rlvt_text[0].split(\"<tbody>\")[1]\n",
    "        rlvt_text3 = rlvt_text2.split(r'<tr data-row=\"')[1:]\n",
    "\n",
    "        name_list = []\n",
    "        pos_list = []\n",
    "        fn_list = []\n",
    "        ln_list = []\n",
    "\n",
    "\n",
    "        for i in range(0,len(rlvt_text3)):\n",
    "            sample = strip_tags(rlvt_text3[i])\n",
    "            name_pos = re.findall(r'(\\d{1,2})([\\Da-z]+\\s[\\Da-z]+)([A-Z]{0,2})(\\d-\\d+)([A-Z][a-z]+\\s\\d{1,2},\\s\\d{4})', sample)\n",
    "\n",
    "            tempvar = re.split(r'([A-Z]+)', name_pos[0][1])\n",
    "            name = \"\".join(tempvar[:len(tempvar)-2])\n",
    "            pos = tempvar[-2]\n",
    "            \n",
    "            templist = name.strip(\" \").split(\" \")\n",
    "            first_name = templist.pop(0)\n",
    "            last_name = \" \".join(templist)\n",
    "\n",
    "            name_list.append(name.strip(\" \"))\n",
    "            pos_list.append(pos.strip(\" \"))\n",
    "            fn_list.append(first_name)\n",
    "            ln_list.append(last_name)\n",
    "\n",
    "\n",
    "\n",
    "        name_series = pd.Series(name_list)\n",
    "        pos_series = pd.Series(pos_list)\n",
    "        fn_series = pd.Series(fn_list)\n",
    "        ln_series = pd.Series(ln_list)\n",
    "        \n",
    "        team_series = pd.Series([team for asd in range(0, len(name_series))])\n",
    "\n",
    "        sample_dict = {'names': name_series, 'first_name':fn_series, 'last_name': ln_series, 'pos': pos_series, 'team':team_series}\n",
    "\n",
    "        team_dict = pd.DataFrame(sample_dict)\n",
    "\n",
    "        nba_dicts[team] = team_dict\n",
    "        print(team)\n",
    "    except Exception as e:\n",
    "        print \"error:\", e\n",
    "print \"end date:\", str(datetime.now())"
   ]
  },
  {
   "cell_type": "code",
   "execution_count": 17,
   "metadata": {},
   "outputs": [
    {
     "name": "stdout",
     "output_type": "stream",
     "text": [
      "(['MIL', 'GSW', 'MIN', 'TOR', 'ATL', 'BOS', 'DET', 'NYK', 'DEN', 'SAC', 'POR', 'OKC', 'MIA', 'CLE', 'SAS', 'UTA', 'CHI', 'CHO', 'HOU', 'WAS', 'LAL', 'PHI', 'PHO', 'MEM', 'LAC', 'DAL', 'ORL', 'BRK', 'IND', 'NOP'], 30)\n"
     ]
    }
   ],
   "source": [
    "# verify that all 30 teams are in dict\n",
    "print(nba_dicts.keys(), len(nba_dicts.keys()))\n",
    "\n",
    "#concatenate all values into one big data frame\n",
    "NBA_TNAMEPOS_DF = pd.concat(nba_dicts.values(), ignore_index=True)"
   ]
  },
  {
   "cell_type": "code",
   "execution_count": 18,
   "metadata": {},
   "outputs": [],
   "source": [
    "#save to csv\n",
    "NBA_TNAMEPOS_DF.to_csv(\"NBA_teamnamepos_data.csv\", sep=',',index=False)\n"
   ]
  },
  {
   "cell_type": "code",
   "execution_count": 19,
   "metadata": {},
   "outputs": [
    {
     "data": {
      "text/html": [
       "<div>\n",
       "<style scoped>\n",
       "    .dataframe tbody tr th:only-of-type {\n",
       "        vertical-align: middle;\n",
       "    }\n",
       "\n",
       "    .dataframe tbody tr th {\n",
       "        vertical-align: top;\n",
       "    }\n",
       "\n",
       "    .dataframe thead th {\n",
       "        text-align: right;\n",
       "    }\n",
       "</style>\n",
       "<table border=\"1\" class=\"dataframe\">\n",
       "  <thead>\n",
       "    <tr style=\"text-align: right;\">\n",
       "      <th></th>\n",
       "      <th>first_name</th>\n",
       "      <th>last_name</th>\n",
       "      <th>names</th>\n",
       "      <th>pos</th>\n",
       "      <th>team</th>\n",
       "    </tr>\n",
       "  </thead>\n",
       "  <tbody>\n",
       "    <tr>\n",
       "      <th>0</th>\n",
       "      <td>Giannis</td>\n",
       "      <td>Antetokounmpo</td>\n",
       "      <td>Giannis Antetokounmpo</td>\n",
       "      <td>PG</td>\n",
       "      <td>MIL</td>\n",
       "    </tr>\n",
       "    <tr>\n",
       "      <th>1</th>\n",
       "      <td>Jerryd</td>\n",
       "      <td>Bayless</td>\n",
       "      <td>Jerryd Bayless</td>\n",
       "      <td>SG</td>\n",
       "      <td>MIL</td>\n",
       "    </tr>\n",
       "    <tr>\n",
       "      <th>2</th>\n",
       "      <td>Michael</td>\n",
       "      <td>Carter-Williams</td>\n",
       "      <td>Michael Carter-Williams</td>\n",
       "      <td>PG</td>\n",
       "      <td>MIL</td>\n",
       "    </tr>\n",
       "    <tr>\n",
       "      <th>3</th>\n",
       "      <td>Chris</td>\n",
       "      <td>Copeland</td>\n",
       "      <td>Chris Copeland</td>\n",
       "      <td>PF</td>\n",
       "      <td>MIL</td>\n",
       "    </tr>\n",
       "    <tr>\n",
       "      <th>4</th>\n",
       "      <td>Jared</td>\n",
       "      <td>Cunningham</td>\n",
       "      <td>Jared Cunningham</td>\n",
       "      <td>SG</td>\n",
       "      <td>MIL</td>\n",
       "    </tr>\n",
       "  </tbody>\n",
       "</table>\n",
       "</div>"
      ],
      "text/plain": [
       "  first_name        last_name                    names pos team\n",
       "0    Giannis    Antetokounmpo    Giannis Antetokounmpo  PG  MIL\n",
       "1     Jerryd          Bayless           Jerryd Bayless  SG  MIL\n",
       "2    Michael  Carter-Williams  Michael Carter-Williams  PG  MIL\n",
       "3      Chris         Copeland           Chris Copeland  PF  MIL\n",
       "4      Jared       Cunningham         Jared Cunningham  SG  MIL"
      ]
     },
     "execution_count": 19,
     "metadata": {},
     "output_type": "execute_result"
    }
   ],
   "source": [
    "NBA_dataset = pd.read_csv(\"NBA_teamnamepos_data.csv\", sep=\",\")\n",
    "NBA_dataset.head()"
   ]
  },
  {
   "cell_type": "code",
   "execution_count": null,
   "metadata": {},
   "outputs": [],
   "source": []
  }
 ],
 "metadata": {
  "kernelspec": {
   "display_name": "Python 2",
   "language": "python",
   "name": "python2"
  },
  "language_info": {
   "codemirror_mode": {
    "name": "ipython",
    "version": 2
   },
   "file_extension": ".py",
   "mimetype": "text/x-python",
   "name": "python",
   "nbconvert_exporter": "python",
   "pygments_lexer": "ipython2",
   "version": "2.7.14"
  }
 },
 "nbformat": 4,
 "nbformat_minor": 2
}
